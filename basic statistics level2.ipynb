{
 "cells": [
  {
   "cell_type": "code",
   "execution_count": 1,
   "id": "160bd924",
   "metadata": {},
   "outputs": [],
   "source": [
    "import numpy as np\n",
    "import pandas as pd\n",
    "from scipy import stats\n",
    "from scipy.stats import norm\n"
   ]
  },
  {
   "cell_type": "code",
   "execution_count": 2,
   "id": "5271f69a",
   "metadata": {},
   "outputs": [
    {
     "data": {
      "text/plain": [
       "0.26598552904870054"
      ]
     },
     "execution_count": 2,
     "metadata": {},
     "output_type": "execute_result"
    }
   ],
   "source": [
    "# Set2 Q.1\n",
    "1-(stats.norm.cdf(50,loc=45,scale=8))"
   ]
  },
  {
   "cell_type": "code",
   "execution_count": 8,
   "id": "d2bc7705",
   "metadata": {},
   "outputs": [
    {
     "data": {
      "text/plain": [
       "151.516586070978"
      ]
     },
     "execution_count": 8,
     "metadata": {},
     "output_type": "execute_result"
    }
   ],
   "source": [
    "# Set2 Q.4\n",
    "stats.norm.ppf(0.995,loc=100,scale=20)"
   ]
  },
  {
   "cell_type": "code",
   "execution_count": 9,
   "id": "82dec0d0",
   "metadata": {},
   "outputs": [
    {
     "data": {
      "text/plain": [
       "48.483413929021985"
      ]
     },
     "execution_count": 9,
     "metadata": {},
     "output_type": "execute_result"
    }
   ],
   "source": [
    "stats.norm.ppf(0.005,loc=100,scale=20)"
   ]
  },
  {
   "cell_type": "code",
   "execution_count": null,
   "id": "bfa7804e",
   "metadata": {},
   "outputs": [],
   "source": []
  }
 ],
 "metadata": {
  "kernelspec": {
   "display_name": "Python 3 (ipykernel)",
   "language": "python",
   "name": "python3"
  },
  "language_info": {
   "codemirror_mode": {
    "name": "ipython",
    "version": 3
   },
   "file_extension": ".py",
   "mimetype": "text/x-python",
   "name": "python",
   "nbconvert_exporter": "python",
   "pygments_lexer": "ipython3",
   "version": "3.9.12"
  }
 },
 "nbformat": 4,
 "nbformat_minor": 5
}
